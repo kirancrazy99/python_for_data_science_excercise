{
 "cells": [
  {
   "cell_type": "code",
   "execution_count": 1,
   "metadata": {
    "ExecuteTime": {
     "end_time": "2020-05-04T14:39:05.406549Z",
     "start_time": "2020-05-04T14:39:05.401554Z"
    }
   },
   "outputs": [],
   "source": [
    "#--- -2 ---- -1---- 0 ---- 1 ---- 2"
   ]
  },
  {
   "cell_type": "code",
   "execution_count": 3,
   "metadata": {
    "ExecuteTime": {
     "end_time": "2020-05-04T14:39:36.605548Z",
     "start_time": "2020-05-04T14:39:32.472318Z"
    }
   },
   "outputs": [],
   "source": [
    "import numpy as np\n",
    "from numpy.random import randn"
   ]
  },
  {
   "cell_type": "code",
   "execution_count": 34,
   "metadata": {
    "ExecuteTime": {
     "end_time": "2020-05-04T14:41:51.147736Z",
     "start_time": "2020-05-04T14:41:51.140740Z"
    }
   },
   "outputs": [
    {
     "name": "stdout",
     "output_type": "stream",
     "text": [
      "0.0585334576064233\n",
      "None\n"
     ]
    }
   ],
   "source": [
    "answer=None\n",
    "x=randn()\n",
    "if x>1:\n",
    "    answer='x is greated than 1'\n",
    "print(x)\n",
    "print(answer)"
   ]
  },
  {
   "cell_type": "markdown",
   "metadata": {},
   "source": [
    "\n",
    "---"
   ]
  },
  {
   "cell_type": "code",
   "execution_count": 35,
   "metadata": {
    "ExecuteTime": {
     "end_time": "2020-05-04T14:42:25.663258Z",
     "start_time": "2020-05-04T14:42:25.659259Z"
    }
   },
   "outputs": [],
   "source": [
    "#--- -2 ---- -1---- 0 ---- 1 ---- 2\n",
    "#Nested if"
   ]
  },
  {
   "cell_type": "code",
   "execution_count": 65,
   "metadata": {
    "ExecuteTime": {
     "end_time": "2020-05-04T14:44:31.248829Z",
     "start_time": "2020-05-04T14:44:31.239833Z"
    }
   },
   "outputs": [
    {
     "name": "stdout",
     "output_type": "stream",
     "text": [
      "1.9952339352665114\n",
      "x is greater than 1\n"
     ]
    }
   ],
   "source": [
    "answer=None\n",
    "x=randn()\n",
    "if x>1:\n",
    "    answer='x is greater than 1'\n",
    "else:\n",
    "    if x>=-1:\n",
    "        answer=' Between -1 and 1'\n",
    "    else:\n",
    "        answer='x less than 1'\n",
    "print(x)\n",
    "print(answer)"
   ]
  },
  {
   "cell_type": "code",
   "execution_count": 66,
   "metadata": {
    "ExecuteTime": {
     "end_time": "2020-05-04T14:44:41.351727Z",
     "start_time": "2020-05-04T14:44:41.347729Z"
    }
   },
   "outputs": [],
   "source": [
    "#Chained if"
   ]
  },
  {
   "cell_type": "code",
   "execution_count": 79,
   "metadata": {
    "ExecuteTime": {
     "end_time": "2020-05-04T14:45:21.323613Z",
     "start_time": "2020-05-04T14:45:21.316615Z"
    }
   },
   "outputs": [
    {
     "name": "stdout",
     "output_type": "stream",
     "text": [
      "-2.212079609533895\n",
      "x less than 1\n"
     ]
    }
   ],
   "source": [
    "answer=None\n",
    "x=randn()\n",
    "if x>1:\n",
    "    answer='x is greater than 1'\n",
    "elif x>=-1:\n",
    "    answer=' Between -1 and 1'\n",
    "else:\n",
    "    answer='x less than 1'\n",
    "print(x)\n",
    "print(answer)"
   ]
  }
 ],
 "metadata": {
  "kernelspec": {
   "display_name": "Python 3",
   "language": "python",
   "name": "python3"
  },
  "language_info": {
   "codemirror_mode": {
    "name": "ipython",
    "version": 3
   },
   "file_extension": ".py",
   "mimetype": "text/x-python",
   "name": "python",
   "nbconvert_exporter": "python",
   "pygments_lexer": "ipython3",
   "version": "3.7.6"
  }
 },
 "nbformat": 4,
 "nbformat_minor": 4
}
